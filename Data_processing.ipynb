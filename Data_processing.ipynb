{
 "cells": [
  {
   "cell_type": "code",
   "execution_count": 2,
   "id": "8deb1430",
   "metadata": {},
   "outputs": [],
   "source": [
    "import os\n",
    "import json\n",
    "\n",
    "data_list = []\n",
    "\n",
    "def process_json_files(directory, output_file):\n",
    "    for filename in os.listdir(directory):\n",
    "        if filename.endswith('.json'):\n",
    "            with open(os.path.join(directory, filename), 'r', encoding='utf-8') as f:\n",
    "                data = json.load(f)\n",
    "            data_list.extend(data)\n",
    "    with open(output_file, 'w', encoding='utf-8') as f:\n",
    "        json.dump(data_list, f, indent=4)\n",
    "\n"
   ]
  },
  {
   "cell_type": "code",
   "execution_count": 4,
   "id": "98ce7226",
   "metadata": {},
   "outputs": [],
   "source": [
    "directory = './json/Emotions'\n",
    "\n",
    "if __name__ == \"__main__\":\n",
    "    process_json_files(directory, 'processed_emotion_data.json')"
   ]
  },
  {
   "cell_type": "code",
   "execution_count": 4,
   "id": "b12f60e9",
   "metadata": {},
   "outputs": [
    {
     "name": "stdout",
     "output_type": "stream",
     "text": [
      "Added instructions to 546 entries\n"
     ]
    }
   ],
   "source": [
    "import json\n",
    "\n",
    "# Read JSON file\n",
    "with open('processed_data.json', 'r', encoding='utf-8') as f:\n",
    "    data = json.load(f)\n",
    "\n",
    "# Add instruction to each entry\n",
    "instruction = \"Respond as a character with a tsundere personality. Show tsundere traits in your speech patterns and behavior.\"\n",
    "\n",
    "for item in data:\n",
    "    item['instruction'] = instruction\n",
    "\n",
    "# Save back to JSON\n",
    "with open('processed_data_with_instructions.json', 'w', encoding='utf-8') as f:\n",
    "    json.dump(data, f, indent=2, ensure_ascii=False)\n",
    "\n",
    "print(f\"Added instructions to {len(data)} entries\")"
   ]
  }
 ],
 "metadata": {
  "kernelspec": {
   "display_name": "Python 3 (ipykernel)",
   "language": "python",
   "name": "python3"
  },
  "language_info": {
   "codemirror_mode": {
    "name": "ipython",
    "version": 3
   },
   "file_extension": ".py",
   "mimetype": "text/x-python",
   "name": "python",
   "nbconvert_exporter": "python",
   "pygments_lexer": "ipython3",
   "version": "3.13.7"
  }
 },
 "nbformat": 4,
 "nbformat_minor": 5
}
