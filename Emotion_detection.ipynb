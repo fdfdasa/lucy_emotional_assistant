{
 "cells": [
  {
   "cell_type": "code",
   "execution_count": 2,
   "id": "4ee19b62",
   "metadata": {},
   "outputs": [],
   "source": [
    "import os\n",
    "os.environ.update({\n",
    "    'TORCHDYNAMO_DISABLE': '1',\n",
    "    'PYTORCH_DISABLE_TRITON': '1',\n",
    "    'TRITON_DISABLE': '1'\n",
    "})\n",
    "import torch"
   ]
  },
  {
   "cell_type": "code",
   "execution_count": 3,
   "id": "4df30d9f",
   "metadata": {},
   "outputs": [
    {
     "name": "stderr",
     "output_type": "stream",
     "text": [
      "C:\\Users\\James\\AppData\\Local\\Programs\\Python\\Python313\\Lib\\site-packages\\tqdm\\auto.py:21: TqdmWarning: IProgress not found. Please update jupyter and ipywidgets. See https://ipywidgets.readthedocs.io/en/stable/user_install.html\n",
      "  from .autonotebook import tqdm as notebook_tqdm\n"
     ]
    },
    {
     "name": "stdout",
     "output_type": "stream",
     "text": [
      "🦥 Unsloth: Will patch your computer to enable 2x faster free finetuning.\n"
     ]
    },
    {
     "name": "stderr",
     "output_type": "stream",
     "text": [
      "W0913 22:57:50.422000 10852 site-packages\\torch\\distributed\\elastic\\multiprocessing\\redirects.py:29] NOTE: Redirects are currently not supported in Windows or MacOs.\n"
     ]
    },
    {
     "name": "stdout",
     "output_type": "stream",
     "text": [
      "🦥 Unsloth Zoo will now patch everything to make training faster!\n"
     ]
    },
    {
     "name": "stderr",
     "output_type": "stream",
     "text": [
      "C:\\Users\\James\\AppData\\Local\\Programs\\Python\\Python313\\Lib\\site-packages\\unsloth_zoo\\gradient_checkpointing.py:339: UserWarning: expandable_segments not supported on this platform (Triggered internally at C:\\actions-runner\\_work\\pytorch\\pytorch\\pytorch\\c10/cuda/CUDAAllocatorConfig.h:35.)\n",
      "  GPU_BUFFERS = tuple([torch.empty(2*256*2048, dtype = dtype, device = f\"{DEVICE_TYPE}:{i}\") for i in range(n_gpus)])\n"
     ]
    },
    {
     "name": "stdout",
     "output_type": "stream",
     "text": [
      "==((====))==  Unsloth 2025.9.4: Fast Mistral patching. Transformers: 4.56.1.\n",
      "   \\\\   /|    Quadro P4200. Num GPUs = 1. Max memory: 8.0 GB. Platform: Windows.\n",
      "O^O/ \\_/ \\    Torch: 2.8.0+cu126. CUDA: 6.1. CUDA Toolkit: 12.6. Triton: 3.4.0\n",
      "\\        /    Bfloat16 = FALSE. FA [Xformers = 0.0.32.post2. FA2 = False]\n",
      " \"-____-\"     Free license: http://github.com/unslothai/unsloth\n",
      "Unsloth: Fast downloading is enabled - ignore downloading bars which are red colored!\n"
     ]
    }
   ],
   "source": [
    "from unsloth import FastLanguageModel\n",
    "import torch\n",
    "\n",
    "max_seq_length = 2048\n",
    "d_type = None\n",
    "load_in_4bit = True\n",
    "\n",
    "model, tokenizer = FastLanguageModel.from_pretrained(\n",
    "    model_name = \"unsloth/mistral-7b-instruct-v0.3-bnb-4bit\",\n",
    "    max_seq_length = max_seq_length,\n",
    "    load_in_4bit = load_in_4bit,\n",
    ")"
   ]
  },
  {
   "cell_type": "code",
   "execution_count": 4,
   "id": "27b06337",
   "metadata": {},
   "outputs": [
    {
     "name": "stderr",
     "output_type": "stream",
     "text": [
      "Unsloth 2025.9.4 patched 32 layers with 32 QKV layers, 32 O layers and 32 MLP layers.\n"
     ]
    }
   ],
   "source": [
    "model = FastLanguageModel.get_peft_model(\n",
    "    model, \n",
    "    r = 64,\n",
    "    target_modules = [\"q_proj\", \"k_proj\", \"v_proj\", \"o_proj\", \"gate_proj\", \"up_proj\", \"down_proj\"],\n",
    "    lora_alpha = 64*2,\n",
    "    lora_dropout = 0,\n",
    "    bias = 'none',\n",
    "    use_gradient_checkpointing = \"unsloth\",\n",
    "    random_state = 3407,\n",
    "    use_rslora = False,\n",
    "    loftq_config = None\n",
    ")"
   ]
  },
  {
   "cell_type": "code",
   "execution_count": 5,
   "id": "c3d0598f",
   "metadata": {},
   "outputs": [],
   "source": [
    "from datasets import Dataset\n",
    "import json\n",
    "\n",
    "with open(\"processed_emotion_data.json\", \"r\") as f:\n",
    "    data = json.load(f)\n",
    "\n",
    "dataset = Dataset.from_list(data)"
   ]
  },
  {
   "cell_type": "code",
   "execution_count": 6,
   "id": "f18ffdfe",
   "metadata": {},
   "outputs": [
    {
     "name": "stderr",
     "output_type": "stream",
     "text": [
      "Merging columns: 100%|██████████████████████████████████████████████████| 2518/2518 [00:00<00:00, 111703.78 examples/s]\n",
      "Converting to ShareGPT: 100%|███████████████████████████████████████████| 2518/2518 [00:00<00:00, 131520.87 examples/s]\n",
      "Flattening the indices: 100%|███████████████████████████████████████████| 2518/2518 [00:00<00:00, 749184.75 examples/s]\n",
      "Flattening the indices: 100%|████████████████████████████████████████████| 2518/2518 [00:00<00:00, 10479.70 examples/s]\n",
      "Flattening the indices: 100%|████████████████████████████████████████████| 2518/2518 [00:00<00:00, 10167.29 examples/s]\n",
      "Flattening the indices: 100%|████████████████████████████████████████████| 2518/2518 [00:00<00:00, 10892.23 examples/s]\n",
      "Flattening the indices: 100%|████████████████████████████████████████████| 2518/2518 [00:00<00:00, 10909.32 examples/s]\n",
      "Flattening the indices: 100%|████████████████████████████████████████████| 2518/2518 [00:00<00:00, 11135.38 examples/s]\n",
      "Flattening the indices: 100%|████████████████████████████████████████████| 2518/2518 [00:00<00:00, 10683.51 examples/s]\n",
      "Flattening the indices: 100%|████████████████████████████████████████████| 2518/2518 [00:00<00:00, 10784.65 examples/s]\n",
      "Flattening the indices: 100%|████████████████████████████████████████████| 2518/2518 [00:00<00:00, 11814.32 examples/s]\n",
      "Flattening the indices: 100%|████████████████████████████████████████████| 2518/2518 [00:00<00:00, 11850.70 examples/s]\n",
      "Extending conversations: 100%|████████████████████████████████████████████| 2518/2518 [00:00<00:00, 4467.36 examples/s]\n"
     ]
    }
   ],
   "source": [
    "from unsloth import to_sharegpt\n",
    "\n",
    "dataset = to_sharegpt(\n",
    "    dataset=dataset,\n",
    "    merged_prompt= \\\n",
    "        \"[[The user's sentence is {content}.]]\"\\\n",
    "        \"[[\\nThe user's emotion is {emotion}.]]\",\n",
    "    conversation_extension=10,\n",
    "    output_column_name=\"emotion\",\n",
    ")"
   ]
  },
  {
   "cell_type": "code",
   "execution_count": 7,
   "id": "88119c33",
   "metadata": {
    "scrolled": true
   },
   "outputs": [
    {
     "name": "stdout",
     "output_type": "stream",
     "text": [
      "{'conversations': [{'from': 'human',\n",
      "                    'value': \"The user's sentence is My baby just took their \"\n",
      "                             \"first steps and I'm over the moon!.\\n\"\n",
      "                             \"The user's emotion is euphoria.\"},\n",
      "                   {'from': 'gpt', 'value': 'euphoria'},\n",
      "                   {'from': 'human',\n",
      "                    'value': \"The user's sentence is The smell of fresh \"\n",
      "                             'flowers fills me with peace..\\n'\n",
      "                             \"The user's emotion is serenity.\"},\n",
      "                   {'from': 'gpt', 'value': 'serenity'},\n",
      "                   {'from': 'human',\n",
      "                    'value': \"The user's sentence is The clock shows it is \"\n",
      "                             'noon..\\n'\n",
      "                             \"The user's emotion is equanimity.\"},\n",
      "                   {'from': 'gpt', 'value': 'equanimity'},\n",
      "                   {'from': 'human',\n",
      "                    'value': \"The user's sentence is That surprise gift made \"\n",
      "                             'me feel so valued..\\n'\n",
      "                             \"The user's emotion is gratitude.\"},\n",
      "                   {'from': 'gpt', 'value': 'gratitude'},\n",
      "                   {'from': 'human',\n",
      "                    'value': \"The user's sentence is I feel proud after \"\n",
      "                             'finishing my project..\\n'\n",
      "                             \"The user's emotion is pride.\"},\n",
      "                   {'from': 'gpt', 'value': 'pride'},\n",
      "                   {'from': 'human',\n",
      "                    'value': \"The user's sentence is That surprise gift made \"\n",
      "                             'me feel so valued..\\n'\n",
      "                             \"The user's emotion is gratitude.\"},\n",
      "                   {'from': 'gpt', 'value': 'gratitude'},\n",
      "                   {'from': 'human',\n",
      "                    'value': \"The user's sentence is Laughing with family \"\n",
      "                             'always lifts my spirits..\\n'\n",
      "                             \"The user's emotion is cheerfulness.\"},\n",
      "                   {'from': 'gpt', 'value': 'cheerfulness'},\n",
      "                   {'from': 'human',\n",
      "                    'value': \"The user's sentence is I'm practically bouncing \"\n",
      "                             'with excitement about this surprise weekend '\n",
      "                             'getaway!.\\n'\n",
      "                             \"The user's emotion is surprise_adventure.\"},\n",
      "                   {'from': 'gpt', 'value': 'surprise_adventure'},\n",
      "                   {'from': 'human',\n",
      "                    'value': \"The user's sentence is I poured myself a glass \"\n",
      "                             'of water..\\n'\n",
      "                             \"The user's emotion is serenity.\"},\n",
      "                   {'from': 'gpt', 'value': 'serenity'},\n",
      "                   {'from': 'human',\n",
      "                    'value': \"The user's sentence is I placed a pen on the \"\n",
      "                             'table..\\n'\n",
      "                             \"The user's emotion is balance.\"},\n",
      "                   {'from': 'gpt', 'value': 'balance'}]}\n"
     ]
    }
   ],
   "source": [
    "from pprint import pprint\n",
    "pprint(dataset[1])"
   ]
  },
  {
   "cell_type": "code",
   "execution_count": 8,
   "id": "383741ea",
   "metadata": {},
   "outputs": [
    {
     "name": "stderr",
     "output_type": "stream",
     "text": [
      "Unsloth: Standardizing formats (num_proc=12): 100%|████████████████████████| 2518/2518 [00:19<00:00, 129.61 examples/s]\n"
     ]
    }
   ],
   "source": [
    "from unsloth import standardize_sharegpt\n",
    "dataset = standardize_sharegpt(dataset)"
   ]
  },
  {
   "cell_type": "code",
   "execution_count": 9,
   "id": "ccc77984",
   "metadata": {},
   "outputs": [
    {
     "name": "stderr",
     "output_type": "stream",
     "text": [
      "Unsloth: We automatically added an EOS token to stop endless generations.\n",
      "Map: 100%|████████████████████████████████████████████████████████████████| 2518/2518 [00:00<00:00, 3417.76 examples/s]\n"
     ]
    }
   ],
   "source": [
    "chat_template = \"\"\"<|begin_of_text|><|start_header_id|>system<|end_header_id|>\n",
    "\n",
    "{SYSTEM}<|eot_id|><|start_header_id|>user<|end_header_id|>\n",
    "\n",
    "{INPUT}<|eot_id|><|start_header_id|>assistant<|end_header_id|>\n",
    "\n",
    "{OUTPUT}<|eot_id|><|begin_of_text|><|start_header_id|>system<|end_header_id|>\n",
    "\n",
    "{SYSTEM}<|eot_id|><|start_header_id|>user<|end_header_id|>\n",
    "\n",
    "{INPUT}<|eot_id|><|start_header_id|>assistant<|end_header_id|>\n",
    "\n",
    "{OUTPUT}<|eot_id|>\"\"\"\n",
    "\n",
    "from unsloth import apply_chat_template\n",
    "\n",
    "dataset = apply_chat_template(\n",
    "    dataset=dataset,\n",
    "    tokenizer=tokenizer,\n",
    "    chat_template=chat_template,\n",
    "    default_system_message=\"Use one word to describe the user's emotion.\",\n",
    ")"
   ]
  },
  {
   "cell_type": "code",
   "execution_count": 10,
   "id": "0012e410",
   "metadata": {},
   "outputs": [
    {
     "name": "stderr",
     "output_type": "stream",
     "text": [
      "Map: 100%|█████████████████████████████████████████████████████████████████| 2518/2518 [00:04<00:00, 577.11 examples/s]\n"
     ]
    }
   ],
   "source": [
    "from trl import SFTTrainer\n",
    "from transformers import TrainingArguments\n",
    "from unsloth import is_bfloat16_supported\n",
    "\n",
    "def tokenize_function(examples):\n",
    "    return tokenizer(\n",
    "        examples[\"text\"],\n",
    "        truncation=True,\n",
    "        max_length=max_seq_length,\n",
    "        padding=\"max_length\",\n",
    "        return_tensors=\"pt\",\n",
    "    )\n",
    "\n",
    "tokenized_dataset = dataset.map(\n",
    "    tokenize_function,\n",
    "    batched=True,\n",
    "    remove_columns=dataset.column_names,\n",
    ")\n",
    "\n",
    "trainer = SFTTrainer(\n",
    "    model=model,\n",
    "    train_dataset=tokenized_dataset,\n",
    "    tokenizer=tokenizer,\n",
    "    max_seq_length=max_seq_length,\n",
    "    dataset_num_proc=1,\n",
    "    packing = False,\n",
    "    args=TrainingArguments(\n",
    "        per_device_train_batch_size=2,\n",
    "        gradient_accumulation_steps=4,\n",
    "        warmup_steps=10,\n",
    "        max_steps=60,\n",
    "        learning_rate=5e-6,\n",
    "        fp16=not is_bfloat16_supported(),\n",
    "        bf16=is_bfloat16_supported(),\n",
    "        logging_steps=1,\n",
    "        optim=\"adamw_8bit\",\n",
    "        weight_decay=0.01,\n",
    "        lr_scheduler_type=\"linear\",\n",
    "        seed = 3407,\n",
    "        output_dir=\"emotion_output\",\n",
    "    )\n",
    ")"
   ]
  },
  {
   "cell_type": "code",
   "execution_count": null,
   "id": "3aed513e",
   "metadata": {},
   "outputs": [
    {
     "name": "stderr",
     "output_type": "stream",
     "text": [
      "==((====))==  Unsloth - 2x faster free finetuning | Num GPUs used = 1\n",
      "   \\\\   /|    Num examples = 2,518 | Num Epochs = 1 | Total steps = 60\n",
      "O^O/ \\_/ \\    Batch size per device = 2 | Gradient accumulation steps = 4\n",
      "\\        /    Data Parallel GPUs = 1 | Total batch size (2 x 4 x 1) = 8\n",
      " \"-____-\"     Trainable parameters = 167,772,160 of 7,415,795,712 (2.26% trained)\n"
     ]
    },
    {
     "name": "stdout",
     "output_type": "stream",
     "text": [
      "Unsloth: Will smartly offload gradients to save VRAM!\n"
     ]
    },
    {
     "data": {
      "text/html": [
       "\n",
       "    <div>\n",
       "      \n",
       "      <progress value='7' max='60' style='width:300px; height:20px; vertical-align: middle;'></progress>\n",
       "      [ 7/60 27:52 < 4:55:26, 0.00 it/s, Epoch 0.02/1]\n",
       "    </div>\n",
       "    <table border=\"1\" class=\"dataframe\">\n",
       "  <thead>\n",
       " <tr style=\"text-align: left;\">\n",
       "      <th>Step</th>\n",
       "      <th>Training Loss</th>\n",
       "    </tr>\n",
       "  </thead>\n",
       "  <tbody>\n",
       "    <tr>\n",
       "      <td>1</td>\n",
       "      <td>4.590700</td>\n",
       "    </tr>\n",
       "    <tr>\n",
       "      <td>2</td>\n",
       "      <td>4.596900</td>\n",
       "    </tr>\n",
       "    <tr>\n",
       "      <td>3</td>\n",
       "      <td>4.618500</td>\n",
       "    </tr>\n",
       "    <tr>\n",
       "      <td>4</td>\n",
       "      <td>4.631200</td>\n",
       "    </tr>\n",
       "    <tr>\n",
       "      <td>5</td>\n",
       "      <td>4.566800</td>\n",
       "    </tr>\n",
       "  </tbody>\n",
       "</table><p>"
      ],
      "text/plain": [
       "<IPython.core.display.HTML object>"
      ]
     },
     "metadata": {},
     "output_type": "display_data"
    }
   ],
   "source": [
    "trainer.train()"
   ]
  },
  {
   "cell_type": "code",
   "execution_count": null,
   "id": "889bc68c-d9f9-4fa9-84d7-fa2adb237a75",
   "metadata": {},
   "outputs": [],
   "source": [
    "model.save_pretrained_merged(\"predict_emotion_model\", tokenizer, save_method = \"merged_16bit\",)"
   ]
  }
 ],
 "metadata": {
  "kernelspec": {
   "display_name": "Python 3 (ipykernel)",
   "language": "python",
   "name": "python3"
  },
  "language_info": {
   "codemirror_mode": {
    "name": "ipython",
    "version": 3
   },
   "file_extension": ".py",
   "mimetype": "text/x-python",
   "name": "python",
   "nbconvert_exporter": "python",
   "pygments_lexer": "ipython3",
   "version": "3.13.7"
  }
 },
 "nbformat": 4,
 "nbformat_minor": 5
}
